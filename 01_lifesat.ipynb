{
 "cells": [
  {
   "cell_type": "markdown",
   "metadata": {},
   "source": [
    "**ML Lab 1**\n",
    "<table align=\"left\">\n",
    "  <td>\n",
    "    <a href=\"https://colab.research.google.com/github/marcinsawinski/UEP_KIE_ML_LAB_PROG/blob/main/01_lifesat.ipynb\" target=\"_parent\"><img src=\"https://colab.research.google.com/assets/colab-badge.svg\" alt=\"Open In Colab\"/></a>\n",
    "  </td>\n",
    "</table>"
   ]
  },
  {
   "cell_type": "markdown",
   "metadata": {},
   "source": [
    "# Hints"
   ]
  },
  {
   "cell_type": "markdown",
   "metadata": {},
   "source": [
    "## General\n",
    "_Imports_\n",
    "```python\n",
    "import matplotlib.pyplot as plt\n",
    "import numpy as np\n",
    "import pandas as pd\n",
    "from sklearn.linear_model import LinearRegression\n",
    "from sklearn.neighbors import KNeighborsRegressor\n",
    "import urllib.request\n",
    "```\n",
    "\n",
    "_Data location_\n",
    "```python\n",
    "url_lifesat = 'https://github.com/marcinsawinski/UEP_KIE_ML_LAB_PROG/raw/main/datasets/lifesat/lifesat.csv'\n",
    "```"
   ]
  },
  {
   "cell_type": "markdown",
   "metadata": {},
   "source": [
    "## Pandas\n",
    "_Read remote or local csv into a pandas dataframe_\n",
    "```python\n",
    "df = pd.read_csv('file or url address')\n",
    "```\n",
    "### Subet dataframe data\n",
    "\n",
    "_Pick specific columns_\n",
    "```python\n",
    "df[['column1','column2']]\n",
    "```\n",
    "\n",
    "_Pick rows that fill specifi criteria e.g. rows where column1 is equal 100_\n",
    "```python\n",
    "df[df.column1 == 100]\n",
    "```\n",
    "\n",
    "_Convert pandas to numpy array_\n",
    "```python\n",
    "df.values \n",
    "```\n",
    "or\n",
    "```python\n",
    "df.to_numpy()\n",
    "```\n",
    "_Visualize dataframe as scatter plot_\n",
    "```python\n",
    "df.plot(kind='scatter', grid=True,\n",
    "             x=\"column1\", y=\"column2\")\n",
    "plt.show()\n",
    "```\n",
    "_Merge dataframes df\\_a and df\\_b into df\\_c using matching indexes_\n",
    "```python\n",
    "df_c = pd.merge(left=df_a, right=df_b, left_index=True, right_index=True)\n",
    "```\n",
    "_Merge dataframes df\\_a and df\\_b into df\\_c using key column column1_\n",
    "```python\n",
    "df_c = pd.merge(left=df_a, right=df_b, on='column1')\n",
    "```"
   ]
  },
  {
   "cell_type": "markdown",
   "metadata": {},
   "source": [
    "## scikit-learn\n",
    "_Create Linear Regression Model_\n",
    "```python\n",
    "model = LinearRegression()\n",
    "```\n",
    "_Create Regression Model based on k-nearest neighbors with k=5_\n",
    "```python\n",
    "model = KNeighborsRegressor(n_neighbors=5)\n",
    "```\n",
    "_Fit model with independant variables a and dependant variable b_\n",
    "```python\n",
    "model.fit(a, b)\n",
    "```\n",
    "_Predict using  model for one new values (one element matrix with value 100_\n",
    "```python\n",
    "x_n = [[100]]\n",
    "model.predict(x_n)\n",
    "```"
   ]
  },
  {
   "cell_type": "markdown",
   "metadata": {},
   "source": [
    "## Request\n",
    "_Fetch file from url and_\n",
    "```python\n",
    "urllib.request.urlretrieve(url, filename)\n",
    "```"
   ]
  },
  {
   "cell_type": "markdown",
   "metadata": {},
   "source": [
    "# Task 1-1.1\n",
    "_Get data and visualize_\n",
    "- Download lifesat data into pandas dataframe called lifesat\n",
    "- Visualize with scatter plot \"GDP per capita (USD)\" on x axis , \"Life satisfaction\" of y axis\n",
    "\n",
    "_Type your code below_"
   ]
  },
  {
   "cell_type": "code",
   "execution_count": null,
   "metadata": {},
   "outputs": [],
   "source": []
  },
  {
   "cell_type": "markdown",
   "metadata": {},
   "source": [
    "# Task 1-1.2\n",
    "_Train the model and predict_\n",
    "- Assign new variable X with data from \"GDP per capita (USD)\" column converted to numpy array\n",
    "- Assign new variable y with data from \"Life satisfaction\" column converted to numpy array\n",
    "- Train linear regression Model for X and y and predict \"Life satisfaction\" when \"GDP per capita (USD)\" is equal 37655.2\n",
    "- Train k-nearest neighbors Model with k=3 for X and y and predict \"Life satisfaction\" when \"GDP per capita (USD)\" is equal 37655.2\n",
    "- Compare linear regression k-nearest neighbors results\n",
    "\n",
    "_Type your code below_"
   ]
  },
  {
   "cell_type": "code",
   "execution_count": null,
   "metadata": {},
   "outputs": [],
   "source": []
  },
  {
   "cell_type": "markdown",
   "metadata": {},
   "source": [
    "# Task 1-1.3\n",
    "_Prepare dataset_\n",
    "- Fetch Better Life Index (BLI) data from [OECD's website](http://stats.oecd.org/index.aspx?DataSetCode=BLI) (to get the Life Satisfaction for each country), and World Bank GDP per capita data from [OurWorldInData.org](https://ourworldindata.org/grapher/gdp-per-capita-worldbank)\n",
    "\n",
    "files are copied here:\n",
    "\n",
    "https://github.com/marcinsawinski/UEP_KIE_ML_LAB_PROG/raw/main/datasets/lifesat/gdp-per-capita-worldbank.csv\n",
    "https://github.com/marcinsawinski/UEP_KIE_ML_LAB_PROG/raw/main/datasets/lifesat/oecd_bli_20221109.csv\n",
    "- Preview fetched data\n",
    "- Filter one 1 selected year\n",
    "- Merge the life satisfaction data and the GDP per capita data, keeping only the GDP per capita and Life satisfaction columns\n",
    "- Visuilza data on scatter plot\n",
    "- Add linear regresion prediciton for countries with no Life satisfaction to the plot\n",
    "- Add k-nearest neighbors prediciton for countries with no Life satisfaction to the plot\n",
    "\n",
    "_Type your code below_"
   ]
  },
  {
   "cell_type": "code",
   "execution_count": null,
   "metadata": {},
   "outputs": [],
   "source": []
  }
 ],
 "metadata": {
  "kernelspec": {
   "display_name": "Python 3.9.13 ('hml3')",
   "language": "python",
   "name": "python3"
  },
  "language_info": {
   "codemirror_mode": {
    "name": "ipython",
    "version": 3
   },
   "file_extension": ".py",
   "mimetype": "text/x-python",
   "name": "python",
   "nbconvert_exporter": "python",
   "pygments_lexer": "ipython3",
   "version": "3.9.13"
  },
  "metadata": {
   "interpreter": {
    "hash": "22b0ec00cd9e253c751e6d2619fc0bb2d18ed12980de3246690d5be49479dd65"
   }
  },
  "nav_menu": {},
  "toc": {
   "navigate_menu": true,
   "number_sections": true,
   "sideBar": true,
   "threshold": 6,
   "toc_cell": false,
   "toc_section_display": "block",
   "toc_window_display": true
  },
  "toc_position": {
   "height": "616px",
   "left": "0px",
   "right": "20px",
   "top": "106px",
   "width": "213px"
  },
  "vscode": {
   "interpreter": {
    "hash": "ac2598a53cd48ed973662853cbed9ce85601c819c2e7e5e54efa32ca245c1cee"
   }
  }
 },
 "nbformat": 4,
 "nbformat_minor": 4
}
