{
 "cells": [
  {
   "cell_type": "markdown",
   "metadata": {},
   "source": [
    "# ML Lab 2 Tasks\n",
    "<table align=\"left\">\n",
    "  <td>\n",
    "    <a href=\"https://colab.research.google.com/github/marcinsawinski/UEP_KIE_ML_LAB_PROG/blob/main/02_housing.ipynb\" target=\"_parent\"><img src=\"https://colab.research.google.com/assets/colab-badge.svg\" alt=\"Open In Colab\"/></a>\n",
    "  </td>\n",
    "</table>"
   ]
  },
  {
   "cell_type": "markdown",
   "metadata": {},
   "source": [
    "# Note!\n",
    "Check hints in [Cheatsheet](https://colab.research.google.com/github/marcinsawinski/UEP_KIE_ML_LAB_PROG/blob/main/00_cheatsheet.ipynb)"
   ]
  },
  {
   "cell_type": "markdown",
   "metadata": {},
   "source": [
    "# Task 2.1\n",
    "_Get data from url_housing and visualize_\n",
    "- Preview data, get statistics (.head(), .inf(), .describe())\n",
    "- Print data histogram\n",
    "\n",
    "\n",
    "_Type your code below_"
   ]
  },
  {
   "cell_type": "code",
   "execution_count": null,
   "metadata": {},
   "outputs": [],
   "source": []
  },
  {
   "cell_type": "markdown",
   "metadata": {},
   "source": [
    "# Task 2.2\n",
    "_Create train / test split (80/20)_\n",
    "- Create random split\n",
    "- Create stratifed split on income class (5 strata)\n",
    "\n",
    "\n",
    "_Type your code below_"
   ]
  },
  {
   "cell_type": "code",
   "execution_count": null,
   "metadata": {},
   "outputs": [],
   "source": []
  },
  {
   "cell_type": "markdown",
   "metadata": {},
   "source": [
    "# Task 2.3\n",
    "_Visualize_\n",
    "- Create plot using geographical data (lang, lat). Add alpha. Add color for median_house_value. Add size for population. OPTIONAL Add basemap (e.g. plotly.express)\n",
    "- Create correlation matrix\n",
    "- Plot correlation for median_income and median_house_value\n",
    "\n",
    "_Explore_\n",
    " - Make train dataframe  copy\n",
    " - Create 3 new features:\n",
    "    - rooms_per_household  = total_rooms / households, \n",
    "    - bedrooms_per_room = total_bedrooms / total_rooms\n",
    "    - population_per_household = population / households\n",
    "- Check correlation of new features\n",
    "\n",
    "_Type your code below_"
   ]
  },
  {
   "cell_type": "code",
   "execution_count": null,
   "metadata": {},
   "outputs": [],
   "source": []
  },
  {
   "cell_type": "markdown",
   "metadata": {},
   "source": [
    "# Task 2.4\n",
    "_Prepare_\n",
    "- Make train dataframe copy, drop label\n",
    "- Make train dataframe copy with label only\n",
    "\n",
    "_Clean_\n",
    " - Fill missing total_bedrooms with median value ( whe using inputer watch out for categorical features)\n",
    " - Convert categorical features into one-hot features\n",
    "\n",
    "\n",
    "_Type your code below_"
   ]
  },
  {
   "cell_type": "code",
   "execution_count": null,
   "metadata": {},
   "outputs": [],
   "source": []
  },
  {
   "cell_type": "markdown",
   "metadata": {},
   "source": [
    "# Task 2.5\n",
    "_Clean_\n",
    "- Remove outliers with Isolation forest\n",
    "- Standardize numerical variables\n",
    "- Try fixing distribution od population variable using:\n",
    "    - log function\n",
    "    - percentiles\n",
    "- Add rbf measure for value 35 of housing_median_age\n",
    "\n",
    "\n",
    "_Type your code below_"
   ]
  },
  {
   "cell_type": "code",
   "execution_count": null,
   "metadata": {},
   "outputs": [],
   "source": []
  },
  {
   "cell_type": "markdown",
   "metadata": {},
   "source": [
    "# Task 2.6\n",
    "_Generate custom transformations_\n",
    "- add log transformer for population\n",
    "- add rbf measure for value 35 of housing_median_age\n",
    "- add rooms_per_household, population_per_household, rooms_per_household (last one optional set by hyperparamter)\n",
    "\n",
    "_Generate custom pipeline to combine transformations__\n",
    "- pipeline for preprocessing the numerical attributes\n",
    "    - median inputer\n",
    "    - attributs adder\n",
    "    - StandardScaler\n",
    "- full pipeline witn numerical pipeline the numerical attributes and OneHotEncoder for categorical attributes\n",
    "\n",
    "_Type your code below_"
   ]
  },
  {
   "cell_type": "code",
   "execution_count": null,
   "metadata": {},
   "outputs": [],
   "source": []
  },
  {
   "cell_type": "markdown",
   "metadata": {},
   "source": [
    "# Task 2.7\n",
    "_Select and Train a Model_\n",
    "- Fit LinearRegression on data prepared with full pipline. Check SME, RSME and MAE\n",
    "- Fit DecisionTreeRegressor. Check RSME.\n",
    "- Fit RandomForestRegressor. Check RSME.\n",
    "- Fit SVR. Check RSME.\n",
    "- Peforem cross validation(cv=10). Compare results\n",
    "\n",
    "_Type your code below_"
   ]
  },
  {
   "cell_type": "code",
   "execution_count": null,
   "metadata": {},
   "outputs": [],
   "source": []
  },
  {
   "cell_type": "markdown",
   "metadata": {},
   "source": [
    "# Task 2.8\n",
    "_Tune Model_\n",
    "- Tune DecisionTreeRegressor with Grid Search with param grid:\n",
    "```python\n",
    "param_grid = [\n",
    "    # try 12 (3×4) combinations of hyperparameters\n",
    "    {'n_estimators': [3, 10, 30], 'max_features': [2, 4, 6, 8]},\n",
    "    # then try 6 (2×3) combinations with bootstrap set as False\n",
    "    {'bootstrap': [False], 'n_estimators': [3, 10], 'max_features': [2, 3, 4]},\n",
    "  ]\n",
    "```\n",
    "- Tune DecisionTreeRegressor with RandomizedSearchCV\n",
    "```python\n",
    "param_distribs = {\n",
    "        'n_estimators': randint(low=1, high=200),\n",
    "        'max_features': randint(low=1, high=8),\n",
    "    }\n",
    "```\n",
    "- Check scores\n",
    "- Check feature importances\n",
    "\n",
    "_Type your code below_"
   ]
  },
  {
   "cell_type": "code",
   "execution_count": null,
   "metadata": {},
   "outputs": [],
   "source": []
  },
  {
   "cell_type": "markdown",
   "metadata": {},
   "source": [
    "# Task 2.9\n",
    "_Evaluate Your System on the Test Set_\n",
    "- Predict result for test set with best_estimator. Check RSME.\n",
    "- Calcualte 95% confidence interval for the test RMSE\n",
    "\n",
    "_Type your code below_"
   ]
  },
  {
   "cell_type": "code",
   "execution_count": null,
   "metadata": {},
   "outputs": [],
   "source": []
  },
  {
   "cell_type": "markdown",
   "metadata": {},
   "source": [
    "# Task 2.10\n",
    "Extra tasks:\n",
    "- Write a full pipeline with both preparation and prediction (full_pipeline and LinearRegression)\n",
    "- Calculate 10 clusters and add RBF similarities features\n",
    "\n",
    "\n",
    "_Type your code below_"
   ]
  },
  {
   "cell_type": "code",
   "execution_count": null,
   "metadata": {},
   "outputs": [],
   "source": []
  }
 ],
 "metadata": {
  "kernelspec": {
   "display_name": "Python 3.9.13 ('hml3')",
   "language": "python",
   "name": "python3"
  },
  "language_info": {
   "codemirror_mode": {
    "name": "ipython",
    "version": 3
   },
   "file_extension": ".py",
   "mimetype": "text/x-python",
   "name": "python",
   "nbconvert_exporter": "python",
   "pygments_lexer": "ipython3",
   "version": "3.9.13"
  },
  "nav_menu": {
   "height": "279px",
   "width": "309px"
  },
  "toc": {
   "nav_menu": {},
   "number_sections": true,
   "sideBar": true,
   "skip_h1_title": false,
   "toc_cell": false,
   "toc_position": {},
   "toc_section_display": "block",
   "toc_window_display": false
  },
  "vscode": {
   "interpreter": {
    "hash": "ac2598a53cd48ed973662853cbed9ce85601c819c2e7e5e54efa32ca245c1cee"
   }
  }
 },
 "nbformat": 4,
 "nbformat_minor": 4
}
