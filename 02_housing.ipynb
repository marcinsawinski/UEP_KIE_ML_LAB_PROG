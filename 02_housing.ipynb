{
 "cells": [
  {
   "cell_type": "markdown",
   "metadata": {},
   "source": [
    "# ML Lab 2 Tasks\n",
    "<table align=\"left\">\n",
    "  <td>\n",
    "    <a href=\"https://colab.research.google.com/github/marcinsawinski/UEP_KIE_ML_LAB_PROG/blob/main/02_housing.ipynb\" target=\"_parent\"><img src=\"https://colab.research.google.com/assets/colab-badge.svg\" alt=\"Open In Colab\"/></a>\n",
    "  </td>\n",
    "</table>"
   ]
  },
  {
   "cell_type": "markdown",
   "metadata": {},
   "source": [
    "# Hints"
   ]
  },
  {
   "cell_type": "code",
   "execution_count": null,
   "metadata": {},
   "outputs": [],
   "source": []
  },
  {
   "cell_type": "markdown",
   "metadata": {},
   "source": [
    "## General\n",
    "_Imports_\n",
    "```python\n",
    "from pathlib import Path\n",
    "import pandas as pd\n",
    "import tarfile\n",
    "import urllib.request\n",
    "```\n",
    "_Data location_\n",
    "```python\n",
    "url_housing = 'https://github.com/marcinsawinski/UEP_KIE_ML_LAB_PROG/raw/main/datasets/housing.tgz'\n",
    "unpacked\n",
    "url_housing = 'https://github.com/marcinsawinski/UEP_KIE_ML_LAB_PROG/raw/main/datasets/housing/housing.csv'\n",
    "```\n",
    "_Extract archive_\n",
    "```python\n",
    "path = Path(\"datasets/my_file.tgz\")\n",
    "with tarfile.open(path) as f:\n",
    "    f.extractall(path=\"datasets\")\n",
    "```\n",
    "\n",
    "_Check dataset strcuture_\n",
    "```python\n",
    "df.head()\n",
    "df.info()\n",
    "df.describe()\n",
    "df[\"col1\"].value_counts()\n",
    "```\n",
    "\n",
    "_Plot historam_\n",
    "```python\n",
    "housing.hist(bins=50, figsize=(12, 8))\n",
    "```\n",
    "## Train / test split\n",
    "\n",
    "```python\n",
    "from sklearn.model_selection import train_test_split\n",
    "train_set, test_set = train_test_split(df, test_size=0.2, random_state=42)\n",
    "\n",
    "from sklearn.model_selection import StratifiedShuffleSplit\n",
    "split = StratifiedShuffleSplit(n_splits=1, test_size=0.2, random_state=42)\n",
    "for train_index, test_index in split.split(df, df[\"column_category\"]):\n",
    "strat_train_set = df.loc[train_index]\n",
    "strat_test_set = df.loc[test_index]\n",
    "```\n",
    "_add category column_\n",
    "```python\n",
    "df[\"column_category\"] = pd.cut(df[\"column\"],\n",
    "bins=[0., 1.5, 3.0, 4.5, 6., np.inf],\n",
    "labels=[1, 2, 3, 4, 5])\n",
    "```\n",
    "\n",
    "## Visualize\n",
    "_Map_\n",
    "```python\n",
    "df.plot(kind=\"scatter\", x=\"long\", y=\"lat\", grid=True,\n",
    "             s=df[\"col1\"] / 100, label=\"col2\",\n",
    "             c=\"col3\", cmap=\"jet\", colorbar=True,\n",
    "             legend=True, sharex=False, figsize=(10, 7))\n",
    "plt.show()\n",
    "```\n",
    "_Correlation\n",
    "```python\n",
    "df.corr()\n",
    "\n",
    "from pandas.plotting import scatter_matrix\n",
    "scatter_matrix(df[['col1', 'col2', 'col3]], figsize=(12, 8))\n",
    "\n",
    "\n",
    "df.plot(kind=\"scatter\", x=\"col1\", y=\"col2\", alpha=0.1)\n",
    "```\n",
    "\n"
   ]
  },
  {
   "cell_type": "markdown",
   "metadata": {},
   "source": [
    "Clean\n",
    "```python\n",
    "df.dropna(subset=[\"column1\"]) # option 1\n",
    "df.drop(\"column1\", axis=1) # option 2\n",
    "median = df[\"column1\"].median() # option 3\n",
    "df[\"column1\"].fillna(median, inplace=True)\n",
    "\n",
    "from sklearn.impute import SimpleImputer\n",
    "imputer = SimpleImputer(strategy=\"median\")\n",
    "\n",
    "imputer.fit(df)\n",
    "#check\n",
    "imputer.statistics_\n",
    "df.median().values\n",
    "#then\n",
    "X = imputer.transform(df)\n",
    "df_tr = pd.DataFrame(X, columns=df.columns,index=df.index)\n",
    "\n",
    "\n",
    "```\n",
    "Categorical Attributes\n",
    "```python\n",
    "df_cat = df[['col1', 'col2']]\n",
    "\n",
    "from sklearn.preprocessing import OrdinalEncoder\n",
    "ordinal_encoder = OrdinalEncoder()\n",
    "df_cat_encoded = ordinal_encoder.fit_transform(df_cat)\n",
    "#Check\n",
    "ordinal_encoder.categories_\n",
    "\n",
    "from sklearn.preprocessing import OneHotEncoder\n",
    "cat_encoder = OneHotEncoder()\n",
    "df_cat_1hot = cat_encoder.fit_transform(df_cat)\n",
    "#check\n",
    "df_cat_1hot\n",
    "df_cat_1hot.toarray()\n",
    "\n",
    "```\n",
    "\n",
    "```python\n",
    "\n",
    "```\n",
    "\n",
    "```python\n",
    "\n",
    "```\n",
    "\n",
    "```python\n",
    "\n",
    "```\n",
    "\n",
    "```python\n",
    "\n",
    "```"
   ]
  },
  {
   "cell_type": "markdown",
   "metadata": {},
   "source": [
    "# Task 2.1\n",
    "_Get data from url_housing and visualize_\n",
    "- Preview data, get statistics (.head(), .inf(), .describe())\n",
    "- Print data histogram\n",
    "\n",
    "\n",
    "_Type your code below_"
   ]
  },
  {
   "cell_type": "code",
   "execution_count": null,
   "metadata": {},
   "outputs": [],
   "source": []
  },
  {
   "cell_type": "markdown",
   "metadata": {},
   "source": [
    "# Task 2.2\n",
    "_Create train / test split (80/20)_\n",
    "- Create random split\n",
    "- Create stratifed split on income class (5 strata)\n",
    "\n",
    "\n",
    "_Type your code below_"
   ]
  },
  {
   "cell_type": "code",
   "execution_count": null,
   "metadata": {},
   "outputs": [],
   "source": []
  },
  {
   "cell_type": "markdown",
   "metadata": {},
   "source": [
    "# Task 2.3\n",
    "_Visualize_\n",
    "- Create plot using geographical data (lang, lat). Add alpha. Add color for median_house_value. Add size for population. OPTIONAL Add basemap (e.g. plotly.express)\n",
    "- Create correlation matrix\n",
    "- Plot correlation for median_income and median_house_value\n",
    "\n",
    "_Explore_\n",
    " - Make train dataframe  copy\n",
    " - Create 3 new features:\n",
    "    - rooms_per_household  = total_rooms / households, \n",
    "    - bedrooms_per_room = total_bedrooms / total_rooms\n",
    "    - population_per_household = population / households\n",
    "- Check correlation of new features\n",
    "\n",
    "_Type your code below_"
   ]
  },
  {
   "cell_type": "code",
   "execution_count": null,
   "metadata": {},
   "outputs": [],
   "source": []
  },
  {
   "cell_type": "markdown",
   "metadata": {},
   "source": [
    "# Task 2.4\n",
    "_Prepare_\n",
    "- Make train dataframe copy, drop label\n",
    "- Make train dataframe copy with label only\n",
    "\n",
    "_Clean_\n",
    " - Fill missing total_bedrooms with median value ( whe using inputer watch out for categorical features)\n",
    " - Convert categorical features into one-hot features\n",
    "\n",
    "\n",
    "_Type your code below_"
   ]
  },
  {
   "cell_type": "code",
   "execution_count": null,
   "metadata": {},
   "outputs": [],
   "source": []
  },
  {
   "cell_type": "markdown",
   "metadata": {},
   "source": [
    "# Task 2.5\n",
    "_Clean_\n",
    "- Remove outliers with Isolation forest\n",
    "- Standardize numerical variables\n",
    "- Try fixing distribution od population variable using:\n",
    "    - log function\n",
    "    - percentiles\n",
    "- Add rbf measure for value 35 of housing_median_age\n",
    "\n",
    "\n",
    "_Type your code below_"
   ]
  },
  {
   "cell_type": "code",
   "execution_count": null,
   "metadata": {},
   "outputs": [],
   "source": []
  },
  {
   "cell_type": "markdown",
   "metadata": {},
   "source": [
    "# Task 2.6\n",
    "_Generate custom transformations_\n",
    "- add log transformer for population\n",
    "- add rbf measure for value 35 of housing_median_age\n",
    "- add rooms_per_household, population_per_household, rooms_per_household (last one optional set by hyperparamter)\n",
    "\n",
    "_Generate custom pipeline to combine transformations__\n",
    "- pipeline for preprocessing the numerical attributes\n",
    "    - median inputer\n",
    "    - attributs adder\n",
    "    - StandardScaler\n",
    "- full pipeline witn numerical pipeline the numerical attributes and OneHotEncoder for categorical attributes\n",
    "\n",
    "_Type your code below_"
   ]
  },
  {
   "cell_type": "code",
   "execution_count": null,
   "metadata": {},
   "outputs": [],
   "source": []
  },
  {
   "cell_type": "markdown",
   "metadata": {},
   "source": [
    "# Task 2.7\n",
    "_Select and Train a Model_\n",
    "- Fit LinearRegression on data prepared with full pipline. Check SME, RSME and MAE\n",
    "- Fit DecisionTreeRegressor. Check RSME.\n",
    "- Fit RandomForestRegressor. Check RSME.\n",
    "- Fit SVR. Check RSME.\n",
    "- Peforem cross validation(cv=10). Compare results\n",
    "\n",
    "_Type your code below_"
   ]
  },
  {
   "cell_type": "code",
   "execution_count": null,
   "metadata": {},
   "outputs": [],
   "source": []
  },
  {
   "cell_type": "markdown",
   "metadata": {},
   "source": [
    "# Task 2.8\n",
    "_Tune Model_\n",
    "- Tune DecisionTreeRegressor with Grid Search with param grid:\n",
    "```python\n",
    "param_grid = [\n",
    "    # try 12 (3×4) combinations of hyperparameters\n",
    "    {'n_estimators': [3, 10, 30], 'max_features': [2, 4, 6, 8]},\n",
    "    # then try 6 (2×3) combinations with bootstrap set as False\n",
    "    {'bootstrap': [False], 'n_estimators': [3, 10], 'max_features': [2, 3, 4]},\n",
    "  ]\n",
    "```\n",
    "- Tune DecisionTreeRegressor with RandomizedSearchCV\n",
    "```python\n",
    "param_distribs = {\n",
    "        'n_estimators': randint(low=1, high=200),\n",
    "        'max_features': randint(low=1, high=8),\n",
    "    }\n",
    "```\n",
    "- Check scores\n",
    "- Check feature importances\n",
    "\n",
    "_Type your code below_"
   ]
  },
  {
   "cell_type": "code",
   "execution_count": null,
   "metadata": {},
   "outputs": [],
   "source": []
  },
  {
   "cell_type": "markdown",
   "metadata": {},
   "source": [
    "# Task 2.9\n",
    "_Evaluate Your System on the Test Set_\n",
    "- Predict result for test set with best_estimator. Check RSME.\n",
    "- Calcualte 95% confidence interval for the test RMSE\n",
    "\n",
    "_Type your code below_"
   ]
  },
  {
   "cell_type": "code",
   "execution_count": null,
   "metadata": {},
   "outputs": [],
   "source": []
  },
  {
   "cell_type": "markdown",
   "metadata": {},
   "source": [
    "# Task 2.10\n",
    "Extra tasks:\n",
    "- Write a full pipeline with both preparation and prediction (full_pipeline and LinearRegression)\n",
    "\n",
    "\n",
    "_Type your code below_"
   ]
  },
  {
   "cell_type": "code",
   "execution_count": null,
   "metadata": {},
   "outputs": [],
   "source": []
  }
 ],
 "metadata": {
  "kernelspec": {
   "display_name": "Python 3.9.13 ('hml3')",
   "language": "python",
   "name": "python3"
  },
  "language_info": {
   "codemirror_mode": {
    "name": "ipython",
    "version": 3
   },
   "file_extension": ".py",
   "mimetype": "text/x-python",
   "name": "python",
   "nbconvert_exporter": "python",
   "pygments_lexer": "ipython3",
   "version": "3.9.13"
  },
  "nav_menu": {
   "height": "279px",
   "width": "309px"
  },
  "toc": {
   "nav_menu": {},
   "number_sections": true,
   "sideBar": true,
   "skip_h1_title": false,
   "toc_cell": false,
   "toc_position": {},
   "toc_section_display": "block",
   "toc_window_display": false
  },
  "vscode": {
   "interpreter": {
    "hash": "ac2598a53cd48ed973662853cbed9ce85601c819c2e7e5e54efa32ca245c1cee"
   }
  }
 },
 "nbformat": 4,
 "nbformat_minor": 4
}
